{
 "cells": [
  {
   "cell_type": "markdown",
   "metadata": {},
   "source": [
    "### Unpaired(Independent) Parametric T-test ###"
   ]
  },
  {
   "cell_type": "markdown",
   "metadata": {},
   "source": [
    "***\n",
    "\n",
    "**Where We Can Apply Unpaired Prametric T-test ?**\n",
    "\n",
    "- two groups needs to be independent\n",
    "- parametric assumption needs to be satisfy\n"
   ]
  },
  {
   "cell_type": "markdown",
   "metadata": {},
   "source": [
    "\n",
    "### Outline for performing Unpaired(independent) Parametric T-test ###\n",
    "\n",
    "1. Formulate Problem statement(research question) and hypothesis\n",
    "2. Import data\n",
    "3. Check independent parametric t-test assumption\n",
    "4. compute unpaired t-test(based on t-test selection)\n",
    "5. interpret result"
   ]
  },
  {
   "cell_type": "markdown",
   "metadata": {},
   "source": [
    "\n",
    "\n",
    "### T-test type and selection ###\n",
    "\n",
    "Two types:\n",
    "1. student t-test(if assuming two group variance is equal)\n",
    "2. welch t-test(if assuming two group variance is uneuqal)\n",
    "\n",
    "we are going to implement both.. :)\n",
    "\n",
    "**Important : we used Levene's test for variance equality check **"
   ]
  },
  {
   "cell_type": "markdown",
   "metadata": {},
   "source": [
    "### Parametric Assumption ###\n",
    "\n",
    "Assumption 1 : Are the two samples(two group) independent\n",
    "Assumption 2 : Are the data from each of the 2 groups follow a normal distribution?\n",
    "\n",
    "**Important : we used Shapiro-Wilk normality test for checking two group normal distribution  **\n",
    "\n",
    "Shapiro-Wilk return two result first is **w-value** and second is **p-value**\n"
   ]
  },
  {
   "cell_type": "markdown",
   "metadata": {},
   "source": [
    "### Implementation section ###"
   ]
  },
  {
   "cell_type": "markdown",
   "metadata": {},
   "source": [
    "### 1. Problem statement(Research Question)\n",
    "\n",
    "we have measured the weight of 100 individuals: 50 women (group A) and 50 men (group B).    \n",
    "**We want to know if the mean weight of women (mA) is significantly different from that of men (mB).**\n",
    "\n",
    "Bold one is problem statement\n",
    "\n"
   ]
  },
  {
   "cell_type": "markdown",
   "metadata": {},
   "source": [
    "### Formulate hypothesis ###\n",
    "\n",
    "null hypothesis (H0): H0:mA=mB   \n",
    "alternative hypothesis (Ha): Ha:mA≠mB  (different) \n",
    "\n",
    "**Important:two tailed hypothesis**"
   ]
  },
  {
   "cell_type": "markdown",
   "metadata": {},
   "source": [
    "### 2. Import data ###"
   ]
  },
  {
   "cell_type": "code",
   "execution_count": 1,
   "metadata": {},
   "outputs": [],
   "source": [
    "import pandas as pd"
   ]
  },
  {
   "cell_type": "code",
   "execution_count": 2,
   "metadata": {},
   "outputs": [
    {
     "data": {
      "text/plain": [
       "(18, 2)"
      ]
     },
     "execution_count": 2,
     "metadata": {},
     "output_type": "execute_result"
    }
   ],
   "source": [
    "data=pd.read_csv(\"dataset/mw.csv\")\n",
    "data.shape"
   ]
  },
  {
   "cell_type": "code",
   "execution_count": 3,
   "metadata": {},
   "outputs": [
    {
     "data": {
      "text/plain": [
       "(18, 2)"
      ]
     },
     "execution_count": 3,
     "metadata": {},
     "output_type": "execute_result"
    }
   ],
   "source": [
    "data.shape\n"
   ]
  },
  {
   "cell_type": "markdown",
   "metadata": {},
   "source": [
    "### 3. Parametric Assumptions ###"
   ]
  },
  {
   "cell_type": "markdown",
   "metadata": {},
   "source": [
    "**Parametric Asumption 1: Are the two samples(two group) independent?   \n",
    "Conclusion : Yes, since the samples from men and women are not related.**"
   ]
  },
  {
   "cell_type": "markdown",
   "metadata": {},
   "source": [
    "**Assumtion 2: Are the data from each of the 2 groups follow a normal distribution?**   \n",
    "  \n",
    "            \n",
    "**step 1 : formulate hypothesis **\n",
    "- null hypothesis (H0): data are normaly distributed   \n",
    "- alternative hypothesis (Ha): note normaly distributed\n",
    "\n",
    "**step 2 : if Shapiro-Wilk test result p-values are greater then the significance p-value(0.05) then accept\n",
    "null hypothesis that means data is normal distributed**\n",
    "\n",
    "Conclusion:   \n",
    "man p-value(0.106) > 0.05 hence normal distributed   \n",
    "woman p-value(0.601) > 0.05 hence normal distributed"
   ]
  },
  {
   "cell_type": "code",
   "execution_count": 4,
   "metadata": {},
   "outputs": [],
   "source": [
    "import scipy.stats as stats\n"
   ]
  },
  {
   "cell_type": "code",
   "execution_count": 5,
   "metadata": {},
   "outputs": [],
   "source": [
    "man=data[data['group']!='Woman']\n",
    "woman=data[data['group']=='Woman']\n"
   ]
  },
  {
   "cell_type": "code",
   "execution_count": 6,
   "metadata": {},
   "outputs": [
    {
     "data": {
      "text/plain": [
       "(0.8642458319664001, 0.10660982877016068)"
      ]
     },
     "execution_count": 6,
     "metadata": {},
     "output_type": "execute_result"
    }
   ],
   "source": [
    "stats.shapiro(man.weight.dropna())\n"
   ]
  },
  {
   "cell_type": "code",
   "execution_count": 7,
   "metadata": {},
   "outputs": [
    {
     "data": {
      "text/plain": [
       "(0.9426567554473877, 0.6101282835006714)"
      ]
     },
     "execution_count": 7,
     "metadata": {},
     "output_type": "execute_result"
    }
   ],
   "source": [
    "stats.shapiro(woman.weight.dropna())\n"
   ]
  },
  {
   "cell_type": "markdown",
   "metadata": {},
   "source": [
    "### Assume Equal variance t-test hence student t-test ###"
   ]
  },
  {
   "cell_type": "markdown",
   "metadata": {},
   "source": [
    "*** Levene test***\n",
    "\n",
    "**Problem formulation: both group have equal variance?**   \n",
    "\n",
    "\n",
    "**step 1 : formulate hypothesis**\n",
    "\n",
    "null hypothesis (H0): both group have equal variance\n",
    "alternative hypothesis (Ha): both group have unequal variance\n",
    "\n",
    "**step 2 : if Levene test result p-values are greater then the significance p-value(0.05) then accept null hypothesis that means both group have equal variance**\n",
    "\n",
    "Conclusion : p-value(0.2255) > 0.05 hence both group have equal variance\n"
   ]
  },
  {
   "cell_type": "code",
   "execution_count": 8,
   "metadata": {},
   "outputs": [
    {
     "data": {
      "text/plain": [
       "LeveneResult(statistic=1.5888334612432846, pvalue=0.22556594075964187)"
      ]
     },
     "execution_count": 8,
     "metadata": {},
     "output_type": "execute_result"
    }
   ],
   "source": [
    "stats.levene(man.weight.dropna(), woman.weight.dropna())\n"
   ]
  },
  {
   "cell_type": "markdown",
   "metadata": {},
   "source": [
    "### Parametric Normality and Equal Variance Criteria True so we apply student t-test ###"
   ]
  },
  {
   "cell_type": "code",
   "execution_count": 9,
   "metadata": {},
   "outputs": [
    {
     "data": {
      "text/plain": [
       "(2.7842353699254567, 0.013265602643801042)"
      ]
     },
     "execution_count": 9,
     "metadata": {},
     "output_type": "execute_result"
    }
   ],
   "source": [
    "t, p = stats.ttest_ind(man.weight.dropna(), woman.weight.dropna())\n",
    "t, p"
   ]
  },
  {
   "cell_type": "markdown",
   "metadata": {},
   "source": [
    "### Interpretation of Result ###"
   ]
  },
  {
   "cell_type": "markdown",
   "metadata": {},
   "source": [
    "The p-value(0.013)>0.05 which is false so we accept alternate hypothesis which is We can conclude that men’s average weight is significantly different from women’s average weight"
   ]
  },
  {
   "cell_type": "markdown",
   "metadata": {},
   "source": [
    "### Parametric Normality and unEqual Variance Criteria True so we apply student welch-t-test ###"
   ]
  },
  {
   "cell_type": "code",
   "execution_count": 10,
   "metadata": {},
   "outputs": [
    {
     "data": {
      "text/plain": [
       "(2.7842353699254567, 0.015384235142669895)"
      ]
     },
     "execution_count": 10,
     "metadata": {},
     "output_type": "execute_result"
    }
   ],
   "source": [
    "t, p = stats.ttest_ind(man.weight.dropna(), woman.weight.dropna(),equal_var = False)\n",
    "t, p"
   ]
  },
  {
   "cell_type": "code",
   "execution_count": null,
   "metadata": {},
   "outputs": [],
   "source": []
  }
 ],
 "metadata": {
  "kernelspec": {
   "display_name": "Python 3",
   "language": "python",
   "name": "python3"
  },
  "language_info": {
   "codemirror_mode": {
    "name": "ipython",
    "version": 3
   },
   "file_extension": ".py",
   "mimetype": "text/x-python",
   "name": "python",
   "nbconvert_exporter": "python",
   "pygments_lexer": "ipython3",
   "version": "3.6.5"
  }
 },
 "nbformat": 4,
 "nbformat_minor": 2
}
